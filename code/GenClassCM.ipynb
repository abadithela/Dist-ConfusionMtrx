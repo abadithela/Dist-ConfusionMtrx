{
 "cells": [
  {
   "cell_type": "code",
   "execution_count": 2,
   "id": "bb04eebc",
   "metadata": {},
   "outputs": [
    {
     "name": "stdout",
     "output_type": "stream",
     "text": [
      "======\n",
      "Loading NuScenes tables for version v1.0-mini...\n",
      "23 category,\n",
      "8 attribute,\n",
      "4 visibility,\n",
      "911 instance,\n",
      "12 sensor,\n",
      "120 calibrated_sensor,\n",
      "31206 ego_pose,\n",
      "8 log,\n",
      "10 scene,\n",
      "404 sample,\n",
      "31206 sample_data,\n",
      "18538 sample_annotation,\n",
      "4 map,\n",
      "Done loading in 0.762 seconds.\n",
      "======\n",
      "Reverse indexing ...\n",
      "Done reverse indexing in 0.1 seconds.\n",
      "======\n"
     ]
    }
   ],
   "source": [
    "# Jupyter notebook to generate confusion matrices (Proposition based and class based)\n",
    "from class_based_cm_v2 import GenClassCM\n",
    "import os"
   ]
  },
  {
   "cell_type": "code",
   "execution_count": null,
   "id": "3f612ff9",
   "metadata": {},
   "outputs": [],
   "source": [
    "example = \"full\"\n",
    "class_dict = {0: 'pedestrian', 1:'vehicle', 2:'obstacle', 3:'empty'}\n",
    "# class_dict = {0: 'pedestrian', 1:'obstacle', 2:'empty'}\n",
    "sensors = ['CAM_FRONT']\n",
    "\n",
    "if example ==\"mini\":\n",
    "    traindir = None\n",
    "    cm_type = \"class_based\"\n",
    "    cm_fname = \"mini_4class_cm_ped_obs_cam_f_hz_\"\n",
    "    gen_cm_mini = GenClassCM(traindir=traindir, chk_stored_scenes=False, class_dict=class_dict, sensors=sensors, cm_type = cm_type, cm_fname = cm_fname)\n",
    "    gen_cm_mini.construct_cm()\n",
    "\n",
    "if example ==\"full\":\n",
    "    cm_type = \"class_based\"\n",
    "    cm_fname = \"full_4class_cm_ped_obs_cam_f_hz_\"\n",
    "    gen_cm_full = GenClassCM(save_data_ext=True, chk_stored_scenes=False, class_dict=class_dict, sensors=sensors, cm_type = cm_type, cm_fname = cm_fname)\n",
    "    gen_cm_full.construct_cm()"
   ]
  }
 ],
 "metadata": {
  "kernelspec": {
   "display_name": "Python 3 (ipykernel)",
   "language": "python",
   "name": "python3"
  },
  "language_info": {
   "codemirror_mode": {
    "name": "ipython",
    "version": 3
   },
   "file_extension": ".py",
   "mimetype": "text/x-python",
   "name": "python",
   "nbconvert_exporter": "python",
   "pygments_lexer": "ipython3",
   "version": "3.7.10"
  }
 },
 "nbformat": 4,
 "nbformat_minor": 5
}
