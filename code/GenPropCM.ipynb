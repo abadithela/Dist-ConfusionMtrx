{
 "cells": [
  {
   "cell_type": "code",
   "execution_count": 1,
   "id": "f758e9d6",
   "metadata": {},
   "outputs": [
    {
     "name": "stdout",
     "output_type": "stream",
     "text": [
      "======\n",
      "Loading NuScenes tables for version v1.0-mini...\n",
      "23 category,\n",
      "8 attribute,\n",
      "4 visibility,\n",
      "911 instance,\n",
      "12 sensor,\n",
      "120 calibrated_sensor,\n",
      "31206 ego_pose,\n",
      "8 log,\n",
      "10 scene,\n",
      "404 sample,\n",
      "31206 sample_data,\n",
      "18538 sample_annotation,\n",
      "4 map,\n",
      "Done loading in 0.748 seconds.\n",
      "======\n",
      "Reverse indexing ...\n",
      "Done reverse indexing in 0.1 seconds.\n",
      "======\n"
     ]
    }
   ],
   "source": [
    "from proposition_labeled_cm_v2 import GenPropCM"
   ]
  },
  {
   "cell_type": "code",
   "execution_count": null,
   "id": "5bf9ec97",
   "metadata": {},
   "outputs": [],
   "source": [
    "# Genrate prop-based confusion matrix for full dataset:\n",
    "example = \"full\"\n",
    "class_dict = {0: 'pedestrian', 1:'vehicle', 2:'obstacle', 3:'empty'}\n",
    "# class_dict = {0: 'pedestrian', 1:'obstacle', 2:'empty'}\n",
    "sensors = ['CAM_FRONT']\n",
    "\n",
    "if example ==\"mini\":\n",
    "    traindir = None\n",
    "    cm_type = \"prop_based\"\n",
    "    cm_fname = \"mini_4prop_cm_ped_obs_cam_f_hz_\"\n",
    "    gen_cm_mini = GenPropCM(traindir=traindir, chk_stored_scenes=False, class_dict=class_dict, sensors=sensors, cm_type = cm_type, cm_fname = cm_fname)\n",
    "    gen_cm_mini.construct_cm()\n",
    "\n",
    "if example ==\"full\":\n",
    "    cm_type = \"prop_based\"\n",
    "    cm_fname = \"full_4prop_cm_ped_obs_cam_f_hz_\"\n",
    "    gen_cm_full = GenPropCM(save_data_ext=True, chk_stored_scenes=False, class_dict=class_dict, sensors=sensors, cm_type = cm_type, cm_fname = cm_fname)\n",
    "    gen_cm_full.construct_cm()"
   ]
  }
 ],
 "metadata": {
  "kernelspec": {
   "display_name": "Python 3 (ipykernel)",
   "language": "python",
   "name": "python3"
  },
  "language_info": {
   "codemirror_mode": {
    "name": "ipython",
    "version": 3
   },
   "file_extension": ".py",
   "mimetype": "text/x-python",
   "name": "python",
   "nbconvert_exporter": "python",
   "pygments_lexer": "ipython3",
   "version": "3.7.10"
  }
 },
 "nbformat": 4,
 "nbformat_minor": 5
}
